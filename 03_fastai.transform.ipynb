{
 "cells": [
  {
   "cell_type": "code",
   "execution_count": null,
   "metadata": {},
   "outputs": [],
   "source": [
    "#default_exp fastai.transform"
   ]
  },
  {
   "cell_type": "code",
   "execution_count": null,
   "metadata": {},
   "outputs": [],
   "source": [
    "#hide\n",
    "from nbdev.showdoc import *"
   ]
  },
  {
   "cell_type": "markdown",
   "metadata": {},
   "source": [
    "# Transform Errors\n",
    "> General errors for dealing with `Transform`s"
   ]
  },
  {
   "cell_type": "code",
   "execution_count": null,
   "metadata": {},
   "outputs": [],
   "source": [
    "#export\n",
    "from fastai.data.core import TfmdDL\n",
    "\n",
    "from fastcore.basics import patch\n",
    "from fastcore.meta import delegates\n",
    "from fastcore.transform import _get_name, Transform"
   ]
  },
  {
   "cell_type": "markdown",
   "metadata": {},
   "source": [
    "Transform errors are currently some of the hardest to debug, including the dreaded `Could not do one pass through your DataLoader`.\n",
    "\n",
    "This module provides some extra errors and injection points to see the full traces and their causes"
   ]
  },
  {
   "cell_type": "code",
   "execution_count": null,
   "metadata": {},
   "outputs": [],
   "source": [
    "#export\n",
    "def transform_error(e:Exception, nm:str, event:str) -> Exception:\n",
    "    \"\"\"\n",
    "    Raises Exception `e` stemming from a Transform with more information\n",
    "    \n",
    "    - `nm`: The name of the Transform\n",
    "    - `event`: The event called (such as `encodes` or `decodes`)\n",
    "    \"\"\"\n",
    "    err = f'There was an issue calling event {event} on transform {nm}:\\n\\n'\n",
    "    err += e.args[0]\n",
    "    e.args = [err]\n",
    "    raise e"
   ]
  },
  {
   "cell_type": "code",
   "execution_count": null,
   "metadata": {},
   "outputs": [],
   "source": [
    "#export\n",
    "@patch\n",
    "def __call__(self:Transform, x, **kwargs):\n",
    "    try:\n",
    "        return self._call('encodes', x, **kwargs)\n",
    "    except Exception as e:\n",
    "        transform_error(e, _get_name(self), 'encodes')"
   ]
  },
  {
   "cell_type": "code",
   "execution_count": null,
   "metadata": {},
   "outputs": [],
   "source": [
    "#export\n",
    "@patch\n",
    "def decode(self:Transform, x, **kwargs):\n",
    "    \"Delegate to <code>decodes</code> to undo transform\"\n",
    "    try:\n",
    "        return self._call('decodes', x, **kwargs)\n",
    "    except Exception as e:\n",
    "        transform_error(e, _get_name(self), 'decodes')"
   ]
  },
  {
   "cell_type": "markdown",
   "metadata": {},
   "source": [
    "The `transform_error` is extremely useful for trying to figure out what section of your pipeline broke.\n",
    "\n",
    "As an example, we'll write a broken transform and attempt to build a `DataLoader` with it.\n",
    "\n",
    "> Note: We have added in the capability to get a more verbose error message when building the `DataLoaders` inplace with this module. Check the source notebook or code to see the `@patch`'d code"
   ]
  },
  {
   "cell_type": "code",
   "execution_count": null,
   "metadata": {},
   "outputs": [],
   "source": [
    "#export\n",
    "@patch\n",
    "@delegates(DataLoader.new)\n",
    "def new(self:TfmdDL, dataset=None, cls=None, **kwargs):\n",
    "    \"Create a new version of self with a few changed attributes\"\n",
    "    res = super(TfmdDL, self).new(dataset, cls, do_setup=False, **kwargs)\n",
    "    if not hasattr(self, '_n_inp') or not hasattr(self, '_types'):\n",
    "        try:\n",
    "            self._one_pass()\n",
    "            res._n_inp,res._types = self._n_inp,self._types\n",
    "        except Exception as e: \n",
    "            print(\"Could not do one pass in your dataloader, there is something wrong in it\")\n",
    "            raise e\n",
    "    else: res._n_inp,res._types = self._n_inp,self._types\n",
    "    return res"
   ]
  },
  {
   "cell_type": "code",
   "execution_count": null,
   "metadata": {},
   "outputs": [],
   "source": [
    "from fastai.vision.all import *\n",
    "\n",
    "class BrokenTransform(DisplayedTransform):\n",
    "    \"A purposefully broken transform\"\n",
    "    y = 'a'\n",
    "    def encodes(self, x:TensorImage): return x*self.y"
   ]
  },
  {
   "cell_type": "code",
   "execution_count": null,
   "metadata": {},
   "outputs": [],
   "source": [
    "#failing\n",
    "path = untar_data(URLs.PETS)/'images'\n",
    "dls = ImageDataLoaders.from_name_func(\n",
    "    path, get_image_files(path), valid_pct=0.2,\n",
    "    label_func=lambda x: x[0].isupper(),\n",
    "    item_tfms=[Resize(224)], batch_tfms=[BrokenTransform()])\n",
    "\n",
    "x,y = dls.one_batch()"
   ]
  },
  {
   "cell_type": "markdown",
   "metadata": {},
   "source": [
    "And as you can see it tells that there was an issue on our `encodes` for `BrokenTransform`, whichi s exactly what we expected to have happen!"
   ]
  },
  {
   "cell_type": "code",
   "execution_count": null,
   "metadata": {},
   "outputs": [],
   "source": []
  }
 ],
 "metadata": {
  "kernelspec": {
   "display_name": "Python 3",
   "language": "python",
   "name": "python3"
  }
 },
 "nbformat": 4,
 "nbformat_minor": 2
}
